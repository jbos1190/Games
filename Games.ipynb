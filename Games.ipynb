{
 "cells": [
  {
   "cell_type": "code",
   "execution_count": 7,
   "metadata": {},
   "outputs": [],
   "source": [
    "ftox = {'a':0,'b':1,'c':2,'d':3,'e':4,'f':5,'g':6,'h':7}\n",
    "xtof = {0:'a',1:'b',2:'c',3:'d',4:'e',5:'f',6:'g',7:'h'}\n",
    "rtoy = {i+1:i for i in range(8)}\n",
    "ytor = {i:i+1 for i in range(8)}\n",
    "\n",
    "def play_game(players):\n",
    "    turn = 'Black'\n",
    "    board = initial_board()\n",
    "    state = 'Normal'\n",
    "    while state not in {'White', 'Black'}:\n",
    "        turn = 'White' if turn == 'Black' else 'Black'\n",
    "        move = players[turn].get_move(board)\n",
    "        error_msg = check_move(turn, board, move)\n",
    "        while error_msg is not None:\n",
    "            move = players[turn].get_move(board, error_msg)\n",
    "            error_msg = check_move(turn, board, move)\n",
    "        make_move(board, move)\n",
    "        state = state_check(board, move)\n",
    "        \n",
    "def check_move(turn, board, move):\n",
    "    pass\n",
    "\n",
    "def make_move(board, move):\n",
    "    pass"
   ]
  }
 ],
 "metadata": {
  "kernelspec": {
   "display_name": "Python 3",
   "language": "python",
   "name": "python3"
  },
  "language_info": {
   "codemirror_mode": {
    "name": "ipython",
    "version": 3
   },
   "file_extension": ".py",
   "mimetype": "text/x-python",
   "name": "python",
   "nbconvert_exporter": "python",
   "pygments_lexer": "ipython3",
   "version": "3.8.3"
  }
 },
 "nbformat": 4,
 "nbformat_minor": 4
}
